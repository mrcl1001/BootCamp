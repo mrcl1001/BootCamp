{
 "cells": [
  {
   "cell_type": "code",
   "execution_count": null,
   "metadata": {},
   "outputs": [],
   "source": [
    "install.packages(c('repr','IRdisplay', 'evaluate', 'crayon', 'pbdZMQ', 'devtools', 'uuid', 'digest','ggplot2','reshape2','entropy','quantmod'), repos='https://cran.rstudio.com/')\n",
    "install.packages(c('caret','curl','dbsca','dplyr','dslabs','e1071','egg','euralet','GGally','ggdedro','ggpubr','glmet','jpeg','MASS','microbechmark','plotrix','plyr','pracma','reshape2','ROCR','tm','zoo','glmnetUtils'),repos='https://cran.rstudio.com/')"
   ]
  },
  {
   "cell_type": "code",
   "execution_count": null,
   "metadata": {},
   "outputs": [],
   "source": [
    "library(ggplot2)\n",
    "library(dplyr)\n",
    "library(tidyverse)\n",
    "library(vcov)"
   ]
  },
  {
   "cell_type": "code",
   "execution_count": null,
   "metadata": {},
   "outputs": [],
   "source": [
    "options(repr.plot.height=4,repr.plot.width=6)"
   ]
  },
  {
   "cell_type": "markdown",
   "metadata": {},
   "source": [
    "Cargar los datos en un dataframe llamado: airbnb"
   ]
  },
  {
   "cell_type": "code",
   "execution_count": null,
   "metadata": {},
   "outputs": [],
   "source": [
    "airbnb<-read.csv('data//airbnb.csv',sep = ',')"
   ]
  },
  {
   "cell_type": "markdown",
   "metadata": {},
   "source": [
    "Mostrar las primeras 6 filas del dataframe"
   ]
  },
  {
   "cell_type": "code",
   "execution_count": null,
   "metadata": {
    "scrolled": true
   },
   "outputs": [],
   "source": [
    "head(airbnb, 6)\n",
    "#primerasfilas <- airbnb[1:6,]\n",
    "#print(primerasfilas)"
   ]
  },
  {
   "cell_type": "markdown",
   "metadata": {},
   "source": [
    "Renombrar las columnas de la siguiente forma:\n",
    "\n",
    "| Nombre original | Nuevo nombre |\n",
    "| - | - |\n",
    "| Zipcode | CodigoPostal |\n",
    "| Neighbourhood.Cleansed | Barrio |\n",
    "| Property.Type\t| TipoPropiedad |\n",
    "| Room.Type | TipoAlquiler |\n",
    "| Accommodates | MaxOcupantes |\n",
    "| Bathrooms\t| NumBanyos |\n",
    "| Bedrooms\t| NumDormitorios |\n",
    "| Beds\t|  NumCamas |\n",
    "| Bed.Type\t| TipoCama |\n",
    "| Amenities | Comodidades |\n",
    "| Square.Feet | PiesCuadrados |\n",
    "| Price\t| Precio |\n",
    "| Review.Scores.Rating | Puntuacion |"
   ]
  },
  {
   "cell_type": "code",
   "execution_count": null,
   "metadata": {},
   "outputs": [],
   "source": [
    "newnames<-c(\"CodigoPostal\",\"Barrio\",\"TipoPropiedad\",\"TipoAlquiler\",\"MaxOcupantes\",\"NumBanyos\",\n",
    "\"NumDormitorios\",\"NumCamas\",\"TipoCama\",\"Comodidades\",\"PiesCuadrados\",\"Precio\",\"Puntuacion\")\n",
    "\n",
    "colnames(airbnb) <- newnames"
   ]
  },
  {
   "cell_type": "markdown",
   "metadata": {},
   "source": [
    "Crea una nueva columna llamada MetrosCuadrados a partir de la columna PiesCuadrados.\n",
    "\n",
    "Ayuda: 1 pie cuadrado son 0,092903 metros cuadrdados"
   ]
  },
  {
   "cell_type": "code",
   "execution_count": null,
   "metadata": {},
   "outputs": [],
   "source": [
    "airbnb <- data.frame(airbnb, MetrosCuadrados = (airbnb$PiesCuadrados*0.092903))"
   ]
  },
  {
   "cell_type": "markdown",
   "metadata": {},
   "source": [
    "Miremos el código postal. Es una variable con entradas erroneas.\n",
    "Hay valores como '', '-'  y '28' que deberían ser considerados como NA.\n",
    "Así mismo también debería ser NA todos los que no compiencen por 28, ya que estamos con códigos postales de Madrid\n",
    "\n",
    "El código postal 28002, 28004 y 28051 tienen entradas repetidas. \n",
    "Por ejemplo las entradas 28002\\n20882 deberían ir dnetro de 28002\n",
    "\n",
    "El codigo 2804 debería ser 28004, 2805 deberia ser 28005 y 2815 juncto con 2815 debería ser 28015\n",
    "\n",
    "Limpia los datos de la columna Codigo Postal"
   ]
  },
  {
   "cell_type": "code",
   "execution_count": null,
   "metadata": {},
   "outputs": [],
   "source": [
    "airbnb$CodigoPostal[airbnb$CodigoPostal==''] <- NA\n",
    "airbnb$CodigoPostal[airbnb$CodigoPostal=='-'] <- NA\n",
    "airbnb$CodigoPostal[airbnb$CodigoPostal=='28'] <- NA\n",
    "airbnb$CodigoPostal[substring(airbnb$CodigoPostal,1,2)!='28'] <- NA\n",
    "\n",
    "airbnb$CodigoPostal[airbnb$CodigoPostal=='2804'] <- '28004'\n",
    "airbnb$CodigoPostal[airbnb$CodigoPostal=='2805'] <- '28005'\n",
    "airbnb$CodigoPostal[airbnb$CodigoPostal=='2815'] <- '28015'\n",
    "\n",
    "airbnb$CodigoPostal <- ifelse(nchar(airbnb$CodigoPostal) > 5, substring(airbnb$CodigoPostal, 0,5), airbnb$CodigoPostal)\n",
    "\n",
    "airbnb <- filter(airbnb, !is.na(airbnb$CodigoPostal))"
   ]
  },
  {
   "cell_type": "markdown",
   "metadata": {},
   "source": [
    "Una vez limpios los datos ¿Cuales son los códigos postales que tenemos? "
   ]
  },
  {
   "cell_type": "code",
   "execution_count": null,
   "metadata": {},
   "outputs": [],
   "source": [
    "ccpp <- distinct(airbnb, CodigoPostal)\n",
    "ccpp <- arrange(ccpp, CodigoPostal)\n",
    "print(ccpp)"
   ]
  },
  {
   "cell_type": "markdown",
   "metadata": {},
   "source": [
    "¿Cuales son los 5 códigos postales con más entradas? ¿Y con menos? ¿Cuantas entradas tienen?"
   ]
  },
  {
   "cell_type": "code",
   "execution_count": null,
   "metadata": {},
   "outputs": [],
   "source": [
    "df_ccpp <- table(airbnb$CodigoPostal)\n",
    "ccpp2 <- data.frame(ccpp, CCPP = df_ccpp)\n",
    "ccpp2 <- ccpp2$CCPP.Freq\n",
    "ccpp <- data.frame(ccpp, Total = ccpp2)\n",
    "ccpp_max <- arrange(ccpp, desc(Total))\n",
    "head(ccpp_max, 5)\n",
    "\n",
    "ccpp_min <- arrange(ccpp, Total)\n",
    "print(ccpp_min[1:5,])\n",
    "\n",
    "#summary(airbnb$CodigoPostal)\n",
    "print(paste0(\"Tiene \", sum(df_ccpp), \" entradas\"))"
   ]
  },
  {
   "cell_type": "markdown",
   "metadata": {},
   "source": [
    "¿Cuales son los barrios que hay en el código postal 28012?"
   ]
  },
  {
   "cell_type": "code",
   "execution_count": null,
   "metadata": {},
   "outputs": [],
   "source": [
    "barrios <- filter(airbnb, airbnb$CodigoPostal == \"28012\")\n",
    "barrios <- distinct(barrios, Barrio)\n",
    "barrios"
   ]
  },
  {
   "cell_type": "markdown",
   "metadata": {},
   "source": [
    "¿Cuantas entradas hay en cada uno de esos barrios para el codigo postal 28012?"
   ]
  },
  {
   "cell_type": "code",
   "execution_count": null,
   "metadata": {},
   "outputs": [],
   "source": [
    "entradas <- filter(airbnb, airbnb$CodigoPostal == \"28012\")\n",
    "table(entradas$Barrio)"
   ]
  },
  {
   "cell_type": "markdown",
   "metadata": {},
   "source": [
    "¿Cuantos barrios hay en todo el dataset airbnb? ¿Cuales son?"
   ]
  },
  {
   "cell_type": "code",
   "execution_count": null,
   "metadata": {},
   "outputs": [],
   "source": [
    "barrios_totales <- distinct(airbnb, Barrio)\n",
    "nrow(barrios_totales)\n",
    "\n",
    "barrios_totales"
   ]
  },
  {
   "cell_type": "markdown",
   "metadata": {},
   "source": [
    "¿Cuales son los 5 barrios que tienen mayor número entradas?"
   ]
  },
  {
   "cell_type": "code",
   "execution_count": null,
   "metadata": {},
   "outputs": [],
   "source": [
    "barrio2 <- distinct(airbnb, Barrio)\n",
    "barrio2 <- arrange(barrio2, Barrio)\n",
    "\n",
    "barrios_entradas <- table(airbnb$Barrio)\n",
    "barrios_entradas2 <- data.frame(barrio2, Entradas = barrios_entradas)\n",
    "barrios_entradas2 <- barrios_entradas2$Entradas.Freq\n",
    "\n",
    "barrio2 <- data.frame(barrio2, Total = barrios_entradas2)\n",
    "barrio2_max <- arrange(barrio2, desc(Total))\n",
    "head(barrio2_max, 5)"
   ]
  },
  {
   "cell_type": "markdown",
   "metadata": {},
   "source": [
    "¿Cuantos Tipos de Alquiler diferentes hay? ¿Cuales son? ¿Cuantas entradas en el dataframe hay por cada tipo?"
   ]
  },
  {
   "cell_type": "code",
   "execution_count": null,
   "metadata": {},
   "outputs": [],
   "source": [
    "tipo_alquiler <- distinct(airbnb, TipoAlquiler)\n",
    "nrow(tipo_alquiler)\n",
    "\n",
    "tipo_alquiler\n",
    "\n",
    "tipo_alquiler_entradas <- table(airbnb$TipoAlquiler)\n",
    "tipo_alquiler_entradas"
   ]
  },
  {
   "cell_type": "markdown",
   "metadata": {},
   "source": [
    "Muestra el diagrama de cajas del precio para cada uno de los diferentes Tipos de Alquiler"
   ]
  },
  {
   "cell_type": "code",
   "execution_count": null,
   "metadata": {},
   "outputs": [],
   "source": [
    "ggplot(data=airbnb,aes(x=TipoAlquiler, y=Precio,color=TipoAlquiler))+geom_boxplot()+\n",
    " scale_color_discrete(name=\"Alquileres\")+ylab(\"Precio\")+xlab(\"Tipo de Alquiler\")"
   ]
  },
  {
   "cell_type": "markdown",
   "metadata": {},
   "source": [
    "Cual es el precio medio de alquiler de cada uno, la diferencia que hay ¿es estadísticamente significativa?\n",
    "¿Con que test lo comprobarías?"
   ]
  },
  {
   "cell_type": "code",
   "execution_count": null,
   "metadata": {},
   "outputs": [],
   "source": [
    "Entire_home_mean <- airbnb$Precio[airbnb$TipoAlquiler=='Entire home/apt']\n",
    "Private_room_mean <- airbnb$Precio[airbnb$TipoAlquiler=='Private room']\n",
    "Shared_room_mean <- airbnb$Precio[airbnb$TipoAlquiler=='Shared room'] \n",
    "\n",
    "print(paste(\"Media de Entire home/apt: \", mean(Entire_home_mean)))\n",
    "print(paste(\"Media de Private room: \", mean(Private_room_mean)))\n",
    "print(paste(\"Media de Shared room: \", mean(Shared_room_mean)))\n",
    "\n",
    "print(\"Como Entire_home_mean y Private_room_mean me salen NA por temas de R tengo que sacarlos de otra forma\")\n",
    "\n",
    "myOwnMean<-function(coll){\n",
    "    m<-0\n",
    "    for (x in coll){\n",
    "        m <- m + x\n",
    "    }\n",
    "    m/length(coll)\n",
    "}\n",
    "\n",
    "Entire_home_mean_2 <- airbnb$Precio[airbnb$TipoAlquiler=='Entire home/apt']\n",
    "Entire_home_mean <- mean(myOwnMean(Entire_home_mean_2[1:1000]))\n",
    "\n",
    "Private_room_mean_2 <- airbnb$Precio[airbnb$TipoAlquiler=='Private room']\n",
    "Private_room_mean <- mean(myOwnMean(Private_room_mean_2[1:800]))\n",
    "\n",
    "print(paste(\"Media de Entire home/apt: \", Entire_home_mean))\n",
    "print(paste(\"Media de Private room: \", Private_room_mean))\n",
    "print(paste(\"Media de Shared room: \", mean(Shared_room_mean)))\n",
    "\n",
    "print(\"La diferencia que hay es considerable con el primer Tipo de alquiler (Entire home/apt), asi que como me parece estadísticamente significativa voy a aplicar el test de Shapiro para comprobarlo, ya que se considera uno de los tests más fiables\")\n",
    "\n",
    "shapiro.test(rnorm(100, mean=Entire_home_mean, sd=4))\n",
    "shapiro.test(rnorm(100, mean=Private_room_mean, sd=4))\n",
    "shapiro.test(rnorm(100, mean=Shared_room_mean, sd=4))\n",
    "\n",
    "print(\"Como el p-value de 'Shared_room_mean' sale muy pequeño se rechaza la hipótesis nula, osea que los datos no están en una distribucióbn normal\")"
   ]
  },
  {
   "cell_type": "markdown",
   "metadata": {},
   "source": [
    "Filtra el dataframe cuyos tipo de alquiler sea  'Entire home/apt' y guardalo en un dataframe llamado \n",
    "*airbnb_entire*.\n",
    "Estas serán las entradas que tienen un alquiler del piso completo."
   ]
  },
  {
   "cell_type": "code",
   "execution_count": null,
   "metadata": {},
   "outputs": [],
   "source": [
    "airbnb_entire <- filter(airbnb, airbnb$TipoAlquiler=='Entire home/apt')\n",
    "print(\"Como en este punto hay una columna que es siempre la misma 'TipoAlquiler', la elimino para que ocupe menos el dataframe\")\n",
    "airbnb_entire <- select(airbnb_entire, -TipoAlquiler)\n",
    "head(airbnb_entire)"
   ]
  },
  {
   "cell_type": "markdown",
   "metadata": {},
   "source": [
    "¿Cuales son los 5 barrios que tienen un mayor número de apartamentos enteros en alquiler?\n",
    "Nota: Mirar solo en airbnb_entire"
   ]
  },
  {
   "cell_type": "code",
   "execution_count": null,
   "metadata": {},
   "outputs": [],
   "source": [
    "print(\"He considerado como 'apartamentos enteros' los que son del TipoPropiedad = 'Apartment'\")\n",
    "airbnb_entire_Apartments <- filter(airbnb_entire, airbnb_entire$TipoPropiedad=='Apartment')\n",
    "airbnb_entire_Apartments <- select(airbnb_entire_Apartments, -TipoPropiedad)\n",
    "\n",
    "apartment_1 <- distinct(airbnb_entire_Apartments, Barrio)\n",
    "apartment_1 <- arrange(apartment_1, Barrio)\n",
    "\n",
    "sort(desc(apartment_1$Total))\n",
    "apartment_2 <- table(airbnb_entire_Apartments$Barrio)\n",
    "apartment_3 <- data.frame(apartment_1, Entradas = apartment_2)\n",
    "apartment_3 <- apartment_3$Entradas.Freq\n",
    "\n",
    "apartment_1 <- data.frame(apartment_1, Total = apartment_3)\n",
    "apartment_solucion <- arrange(apartment_1, desc(Total))\n",
    "head(apartment_solucion ,5)"
   ]
  },
  {
   "cell_type": "markdown",
   "metadata": {},
   "source": [
    "¿Cuales son los 5 barrios que tienen un mayor precio medio de alquiler para apartamentos enteros?\n",
    "\n",
    "¿Cual es su precio medio?\n",
    "\n",
    "Ayuda: Usa la función aggregate `aggregate(.~colname,df,mean,na.rm=TRUE)`"
   ]
  },
  {
   "cell_type": "code",
   "execution_count": null,
   "metadata": {},
   "outputs": [],
   "source": [
    "barrios_precio_medio <- aggregate(Precio ~ Barrio, FUN = mean, data = airbnb_entire_Apartments)\n",
    "head(barrios_precio_medio[order(desc(barrios_precio_medio$Precio)),],5)"
   ]
  },
  {
   "cell_type": "markdown",
   "metadata": {},
   "source": [
    "¿Cuantos apartamentos hay en cada uno de esos barrios?\n",
    "\n",
    "Mostrar una dataframe con el nombre del barrio, el precio y el número de entradas.\n",
    "\n",
    "Ayuda: Podeis crear un nuevo dataframe con las columnas \"Barrio\" y \"Freq\" que contenga el número de entradas en cada barrio y hacer un merge con el dataframe del punto anterior."
   ]
  },
  {
   "cell_type": "code",
   "execution_count": null,
   "metadata": {},
   "outputs": [],
   "source": [
    "print(\"Los apartamentos que hay por Barrio son: \")\n",
    "apartamentos_por_barrio <- airbnb_entire_Apartments %>% count(Barrio)\n",
    "apartamentos_por_barrio <- merge(apartamentos_por_barrio,barrios_precio_medio,by=\"Barrio\")\n",
    "newColumnNames <- c(\"Barrio\", \"Frecuencia\", \"Precio_Medio\")\n",
    "colnames(apartamentos_por_barrio) <- newColumnNames\n",
    "apartamentos_por_barrio <- apartamentos_por_barrio[order(desc(apartamentos_por_barrio$Frecuencia)),]"
   ]
  },
  {
   "cell_type": "markdown",
   "metadata": {},
   "source": [
    "Partiendo del dataframe anterior, muestra los 5 barrios con mayor precio, pero que tengan más de 100 entradas de alquiler."
   ]
  },
  {
   "cell_type": "code",
   "execution_count": null,
   "metadata": {},
   "outputs": [],
   "source": [
    "barrios_mas_precio <- apartamentos_por_barrio[order(desc(apartamentos_por_barrio$Precio_Medio)),]\n",
    "barrios_mas_precio <- filter(barrios_mas_precio, barrios_mas_precio$Frecuencia > 100)\n",
    "barrios_mas_precio_5 <- head(barrios_mas_precio, 5)\n",
    "barrios_mas_precio_5"
   ]
  },
  {
   "cell_type": "markdown",
   "metadata": {},
   "source": [
    "Dibuja el diagrama de densidad de distribución de los diferentes precios. Serían 5 gráficas, una por cada barrio."
   ]
  },
  {
   "cell_type": "code",
   "execution_count": null,
   "metadata": {},
   "outputs": [],
   "source": [
    "#DiagramasDistribucion <- function(coll){\n",
    "#    for (bar in coll){\n",
    "#        barrio_df_2graf <- filter(airbnb_entire_Apartments, airbnb_entire_Apartments$Barrio==bar)\n",
    "#        grafica <- ggplot(data=barrio_df_2graf, aes(Precio)) +  geom_density(adjust = 3) + ylab(bar)\n",
    "#        print(grafica)\n",
    "#    }\n",
    "#}\n",
    "#DiagramasDistribucion(barrios_mas_precio_5$Barrio)\n",
    "\n",
    "barrio_df_2graf <- filter(airbnb_entire_Apartments, airbnb_entire_Apartments$Barrio=='Recoletos')\n",
    "ggplot(data=barrio_df_2graf, aes(Precio)) + geom_density(adjust = 3) + ylab('Recoletos')\n",
    "\n",
    "barrio_df_2graf <- filter(airbnb_entire_Apartments, airbnb_entire_Apartments$Barrio=='Goya')\n",
    "ggplot(data=barrio_df_2graf, aes(Precio)) + geom_density(adjust = 3) + ylab('Goya')\n",
    "\n",
    "barrio_df_2graf <- filter(airbnb_entire_Apartments, airbnb_entire_Apartments$Barrio=='Sol')\n",
    "ggplot(data=barrio_df_2graf, aes(Precio)) + geom_density(adjust = 3) + ylab('Sol')\n",
    "\n",
    "barrio_df_2graf <- filter(airbnb_entire_Apartments, airbnb_entire_Apartments$Barrio=='Justicia')\n",
    "ggplot(data=barrio_df_2graf, aes(Precio)) + geom_density(adjust = 3) + ylab('Justicia')\n",
    "\n",
    "barrio_df_2graf <- filter(airbnb_entire_Apartments, airbnb_entire_Apartments$Barrio=='Trafalgar')\n",
    "ggplot(data=barrio_df_2graf, aes(Precio)) + geom_density(adjust = 3) + ylab('Trafalgar')"
   ]
  },
  {
   "cell_type": "markdown",
   "metadata": {},
   "source": [
    "Calcula el tamaño medio, en metros cuadrados, para los 5 barrios anteriores y muestralo en el mismo dataframe junto con el precio y número de entradas"
   ]
  },
  {
   "cell_type": "code",
   "execution_count": null,
   "metadata": {},
   "outputs": [],
   "source": [
    "barrios_tamanio_medio <- aggregate(MetrosCuadrados ~ Barrio, FUN = mean, data = airbnb_entire_Apartments, na.rm = TRUE)\n",
    "barrios_tamanio_medio_merge <- merge(barrios_mas_precio_5, barrios_tamanio_medio, by=\"Barrio\")\n",
    "barrios_tamanio_medio_merge"
   ]
  },
  {
   "cell_type": "markdown",
   "metadata": {},
   "source": [
    "Dibuja el diagrama de densidad de distribución de los diferentes tamaños de apartamentos. Serían 5 gráficas, una por cada barrio."
   ]
  },
  {
   "cell_type": "code",
   "execution_count": null,
   "metadata": {},
   "outputs": [],
   "source": [
    "tamanios_df_2graf <- filter(airbnb_entire_Apartments, airbnb_entire_Apartments$Barrio=='Recoletos', !is.na(airbnb_entire_Apartments$MetrosCuadrados))\n",
    "ggplot(data=tamanios_df_2graf, aes(MetrosCuadrados)) + geom_density(adjust = 3) + ylab('Recoletos')\n",
    "\n",
    "tamanios_df_2graf <- filter(airbnb_entire_Apartments, airbnb_entire_Apartments$Barrio=='Goya', !is.na(airbnb_entire_Apartments$MetrosCuadrados))\n",
    "ggplot(data=tamanios_df_2graf, aes(MetrosCuadrados)) + geom_density(adjust = 3) + ylab('Goya')\n",
    "\n",
    "tamanios_df_2graf <- filter(airbnb_entire_Apartments, airbnb_entire_Apartments$Barrio=='Sol', !is.na(airbnb_entire_Apartments$MetrosCuadrados))\n",
    "ggplot(data=tamanios_df_2graf, aes(MetrosCuadrados)) + geom_density(adjust = 3) + ylab('Sol')\n",
    "\n",
    "tamanios_df_2graf <- filter(airbnb_entire_Apartments, airbnb_entire_Apartments$Barrio=='Justicia', !is.na(airbnb_entire_Apartments$MetrosCuadrados))\n",
    "ggplot(data=tamanios_df_2graf, aes(MetrosCuadrados)) + geom_density(adjust = 3) + ylab('Justicia')\n",
    "\n",
    "tamanios_df_2graf <- filter(airbnb_entire_Apartments, airbnb_entire_Apartments$Barrio=='Trafalgar', !is.na(airbnb_entire_Apartments$MetrosCuadrados))\n",
    "ggplot(data=tamanios_df_2graf, aes(MetrosCuadrados)) + geom_density(adjust = 3) + ylab('Trafalgar')"
   ]
  },
  {
   "cell_type": "markdown",
   "metadata": {},
   "source": [
    "Esta claro que las medias de cada uno de estos 5 barrios parecen ser diferentes, pero ¿son estadísticamente diferentes?\n",
    "¿Que test habría que usar para comprobarlo?"
   ]
  },
  {
   "cell_type": "code",
   "execution_count": null,
   "metadata": {},
   "outputs": [],
   "source": [
    "print(\"Yo aplicaría el Test de Tukey, ya que lo que busca las medias que son significativamente diferentes\")\n",
    "TukeyHSD(aov(Precio_Medio ~ Barrio, data=barrios_tamanio_medio_merge))"
   ]
  },
  {
   "cell_type": "markdown",
   "metadata": {},
   "source": [
    "Para únicamente los pisos de alquiler en el barrio de Sol:\n",
    "\n",
    "``barrio_sol<-subset(airbnb_entire,Barrio==\"Sol\")``\n",
    "\n",
    "Calcular un modelo lineal que combine alguna de estas variables:\n",
    "* NumBanyos\n",
    "* NumDormitorios\n",
    "* MaxOcupantes\n",
    "* MetrosCuadrados"
   ]
  },
  {
   "cell_type": "code",
   "execution_count": null,
   "metadata": {},
   "outputs": [],
   "source": [
    "barrio_sol<-subset(airbnb_entire,Barrio==\"Sol\")\n",
    "\n",
    "modelo_lineal <- lm(data=barrio_sol, formula=NumDormitorios~MaxOcupantes)\n",
    "summary(modelo_lineal)"
   ]
  },
  {
   "cell_type": "markdown",
   "metadata": {},
   "source": [
    "Primero calculamos la correlación para ver como se relacionan estas variables entre sí."
   ]
  },
  {
   "cell_type": "code",
   "execution_count": null,
   "metadata": {},
   "outputs": [],
   "source": [
    "cor(barrio_sol[,c(\"NumBanyos\",\"NumDormitorios\",\"MaxOcupantes\", \"MetrosCuadrados\")],use = \"complete.obs\")"
   ]
  },
  {
   "cell_type": "markdown",
   "metadata": {},
   "source": [
    "Se observa que la correlación entre el número de dormitorios y los metros cuadrados es sorprendentemente baja.\n",
    "¿Son de fiar esos números?\n",
    "\n",
    "Mediante un histograma o curvas de densidad podemos descartar números que notienen sentido en el dataframe barrio_sol,\n",
    "para tener una matriz de correlación que tenga mayor sentido.\n"
   ]
  },
  {
   "cell_type": "code",
   "execution_count": null,
   "metadata": {},
   "outputs": [],
   "source": [
    "print(\"La lógica dicta que no parecen muy lógicos esos datos, pero también pude ser por unos datos erroneos o un mal cálculo de estos\")\n",
    "\n",
    "ggplot(barrio_sol,aes(x=MetrosCuadrados, y=NumDormitorios, color=MetrosCuadrados)) + geom_col(size=3)\n",
    "\n",
    "barrio_sol_filter <- filter(barrio_sol, barrio_sol$MetrosCuadrados > 10, !is.na(barrio_sol$MetrosCuadrados), barrio_sol$NumDormitorios > 0)\n",
    "ggplot(barrio_sol_filter,aes(x=MetrosCuadrados, y=NumDormitorios, color=MetrosCuadrados)) + geom_col(size=3)\n",
    "\n",
    "correlacion <- cor(barrio_sol_filter[,c(\"NumBanyos\",\"NumDormitorios\",\"MaxOcupantes\", \"MetrosCuadrados\")],use = \"complete.obs\")\n",
    "correlacion"
   ]
  },
  {
   "cell_type": "markdown",
   "metadata": {},
   "source": [
    "Una vez que hayamos filtrado los datos correspondientes calcular el valor o la combinación de valores que mejor nos permite obtener el precio de un inmueble."
   ]
  },
  {
   "cell_type": "code",
   "execution_count": null,
   "metadata": {},
   "outputs": [],
   "source": [
    "combinacion_valores <- cov(barrio_sol_filter[,c(\"NumBanyos\",\"NumDormitorios\",\"MaxOcupantes\", \"MetrosCuadrados\")],use = \"complete.obs\")\n",
    "combinacion_valores"
   ]
  },
  {
   "cell_type": "markdown",
   "metadata": {},
   "source": [
    "¿Que variable es más fiable para conocer el precio de un inmueble, el número de habitaciones o los metros cuadrados?"
   ]
  },
  {
   "cell_type": "code",
   "execution_count": null,
   "metadata": {},
   "outputs": [],
   "source": [
    "print(\"Pienso que es mas fiable el número de habitaciones ya que en la gráfica sale que cuantas mas habitaciones mas caro es el inmueble\")\n",
    "ggplot(barrio_sol_filter,aes(y=MetrosCuadrados, x=NumDormitorios, color=Precio)) + geom_col(size=3)"
   ]
  },
  {
   "cell_type": "markdown",
   "metadata": {},
   "source": [
    "Responde con su correspondiente margen de error del 95%, ¿cuantos euros incrementa el precio del alquiler por cada metro cuadrado extra del piso?"
   ]
  },
  {
   "cell_type": "code",
   "execution_count": null,
   "metadata": {},
   "outputs": [],
   "source": [
    "modelo1 <- lm(data = barrio_sol_filter, formula= MetrosCuadrados ~ Precio)\n",
    "summary(modelo1)\n",
    "modelo1\n",
    "\n",
    "print(paste(\"En torno a los \", modelo1$coefficients[2]))\n",
    "\n",
    "intervalo_confianza <- confint(object = modelo, parm = \"Precio\", level = 0.95)\n",
    "intervalo_confianza\n",
    "prediccion_confianza <- predict(modelo, barrio_sol_filter,interval = 'confidence')\n",
    "head(prediccion_confianza)"
   ]
  },
  {
   "cell_type": "markdown",
   "metadata": {},
   "source": [
    "Responde con su correspondiente margen de error del 95%, ¿cuantos euros incrementa el precio del alquiler por cada habitación?"
   ]
  },
  {
   "cell_type": "code",
   "execution_count": null,
   "metadata": {},
   "outputs": [],
   "source": [
    "modelo2 <- lm(data = barrio_sol_filter, formula = NumDormitorios ~ Precio)\n",
    "summary(modelo2)\n",
    "modelo2\n",
    "\n",
    "print(paste(\"En torno a los \", modelo2$coefficients[2]))"
   ]
  },
  {
   "cell_type": "markdown",
   "metadata": {},
   "source": [
    "¿Cual es la probabilidad de encontrar, en el barrio de Sol, un apartamento en alquiler con 3 dormitorios?\n",
    "¿Cual es el margen de error de esa probabilidad?"
   ]
  },
  {
   "cell_type": "code",
   "execution_count": null,
   "metadata": {},
   "outputs": [],
   "source": [
    "barrio_sol_3Dormitorios <- filter(barrio_sol_filter, barrio_sol_filter$NumDormitorios == 3)\n",
    "probabilidad_sol_3Dormitorios = length(barrio_sol_3Dormitorios)/length(length(barrio_sol_filter))\n",
    "print(paste(\"la probabilidad es del: \", probabilidad_sol_3Dormitorios, \"%\"))"
   ]
  },
  {
   "cell_type": "code",
   "execution_count": null,
   "metadata": {},
   "outputs": [],
   "source": [
    "margen_lo <- qnorm(probabilidad_sol_3Dormitorios/100, lower.tail = T)\n",
    "margen_up <- qnorm(probabilidad_sol_3Dormitorios/100, lower.tail = F)\n",
    "print(paste(\"El margen está entre \", margen_lo, \" y \", margen_up))"
   ]
  }
 ],
 "metadata": {
  "kernelspec": {
   "display_name": "Python 3",
   "language": "python",
   "name": "python3"
  },
  "language_info": {
   "codemirror_mode": {
    "name": "ipython",
    "version": 3
   },
   "file_extension": ".py",
   "mimetype": "text/x-python",
   "name": "python",
   "nbconvert_exporter": "python",
   "pygments_lexer": "ipython3",
   "version": "3.7.1"
  }
 },
 "nbformat": 4,
 "nbformat_minor": 2
}
